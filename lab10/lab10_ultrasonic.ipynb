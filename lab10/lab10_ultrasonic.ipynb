{
 "cells": [
  {
   "cell_type": "markdown",
   "metadata": {},
   "source": [
    "# Lab 10: Ultrasonic Rangefinder\n",
    "\n",
    "In this lab, a circuit for an ultrasonic rangefinder was designed and built. This circuit works by emitting a 40kHz pulse for one millisecond at 20Hz, then reading it from the receiver. The time between emitting and receiving can be used to calculate the range."
   ]
  },
  {
   "cell_type": "code",
   "execution_count": 19,
   "metadata": {},
   "outputs": [],
   "source": [
    "import pandas as pd\n",
    "import matplotlib.pyplot as plt\n",
    "%matplotlib inline\n",
    "\n",
    "import numpy as np"
   ]
  },
  {
   "cell_type": "markdown",
   "metadata": {},
   "source": [
    "## Hardware Setup\n",
    "\n",
    "![schematic](schematic/lab10-schematic.png)\n",
    "\n",
    "There are two circuits in play. The top circuit is the emitter circuit and the bottom circuit is the receiver circuit.\n",
    "\n",
    "### Emitter Circuit\n",
    "\n",
    "The emitter circuit uses an AND gate to produce the 40kHz signal for specific intervals. The two signals being ANDed isa 40kHz @ 50% duty cycle signal and a 20Hz @ 2% duty cycle signal. This creates 40kHz pulses at 20Hz.\n",
    "\n",
    "### Receiver Circuit\n",
    "\n",
    "The receiver circuit uses two active band pass circuits to filter and amplify the feedback. The cutoff frequencies are set to 26kHz and 79kHz. The goal was to aim for 20kHz and 80kHz, half and double the actual frequency, respectively. \n",
    "\n",
    "![breadboard](img/circuit.jpg)\n",
    "\n",
    "This being the last lab, I tried extra hard to make the circuit clean. The wires are all color coded for which part of the circuit it is part of, and the breadboard is labeled with the color code. Lastly, the trick that I learned from the previous labs is to keep all wires and components horizontal and let the breadboard's internal connections handle the vertical connections. Because I separated the top and bottom half of the breadboard to be the emitter and the receiver circuit, respectively, the only vertical wires that were needed were to pull power and ground, and nothing needed to bridge the center gap."
   ]
  },
  {
   "cell_type": "markdown",
   "metadata": {},
   "source": [
    "## Data\n",
    "\n",
    "### Single Blip\n",
    "\n",
    "![1ft](img/1ft.png)"
   ]
  },
  {
   "cell_type": "code",
   "execution_count": 7,
   "metadata": {},
   "outputs": [
    {
     "data": {
      "text/plain": [
       "<matplotlib.axes._subplots.AxesSubplot at 0x7f2c3bb31990>"
      ]
     },
     "execution_count": 7,
     "metadata": {},
     "output_type": "execute_result"
    },
    {
     "data": {
      "image/png": "[encoded data removed]",
      "text/plain": [
       "<Figure size 432x288 with 2 Axes>"
      ]
     },
     "metadata": {
      "needs_background": "light"
     },
     "output_type": "display_data"
    }
   ],
   "source": [
    "ft1 = pd.read_csv('data/1ft.csv')\n",
    "ft1.plot(x='Time (s)', y=['Channel 1 (V)', 'Channel 2 (V)'], secondary_y='Channel 2 (V)')"
   ]
  },
  {
   "cell_type": "markdown",
   "metadata": {},
   "source": [
    "While there is still a significant amount of noise on the signal, there is a clear spike when the pulse is received."
   ]
  },
  {
   "cell_type": "markdown",
   "metadata": {},
   "source": [
    "### Calibration Curve\n",
    "\n",
    "| Distance (ft) | Time to return (ms) |\n",
    "| ------------- | ------------------- |\n",
    "| 1 | 2.264 |\n",
    "| 2 | 4.239 |\n",
    "| 3 | 5.588 |\n",
    "| 4 | 7.755 |\n",
    "| 5 | 9.875 |"
   ]
  },
  {
   "cell_type": "code",
   "execution_count": 24,
   "metadata": {},
   "outputs": [
    {
     "data": {
      "text/plain": [
       "Text(0.5, 1.0, 'Calibration curve')"
      ]
     },
     "execution_count": 24,
     "metadata": {},
     "output_type": "execute_result"
    },
    {
     "data": {
      "image/png": "[encoded data removed]",
      "text/plain": [
       "<Figure size 432x288 with 1 Axes>"
      ]
     },
     "metadata": {
      "needs_background": "light"
     },
     "output_type": "display_data"
    }
   ],
   "source": [
    "cal_data = {\n",
    "    1: 2.264,\n",
    "    2: 4.239,\n",
    "    3: 5.588,\n",
    "    4: 7.755,\n",
    "    5: 9.875,\n",
    "}\n",
    "\n",
    "plt.plot(list(cal_data.keys()), list(cal_data.values()), 'o')\n",
    "plt.xlabel('Distance (ft)')\n",
    "plt.ylabel('Time to return (ms)')\n",
    "plt.title('Calibration curve')"
   ]
  },
  {
   "cell_type": "markdown",
   "metadata": {},
   "source": [
    "The data is vaguely linear, which is expected. This is because the rangefinder works by sending pulses of sound, which has a constant speed. A longer range is extra distance for the sound wave to travel, which is a linear function."
   ]
  }
 ],
 "metadata": {
  "kernelspec": {
   "display_name": "Python 3",
   "language": "python",
   "name": "python3"
  },
  "language_info": {
   "codemirror_mode": {
    "name": "ipython",
    "version": 3
   },
   "file_extension": ".py",
   "mimetype": "text/x-python",
   "name": "python",
   "nbconvert_exporter": "python",
   "pygments_lexer": "ipython3",
   "version": "3.7.4"
  }
 },
 "nbformat": 4,
 "nbformat_minor": 2
}
