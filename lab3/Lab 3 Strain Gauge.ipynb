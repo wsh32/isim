{
 "cells": [
  {
   "cell_type": "markdown",
   "metadata": {},
   "source": [
    "# Lab 3: Strain Gauge\n",
    "\n",
    "In this lab, a strain gauge was created using a Wheatstone bridge. Calibration measurements were taking using known masses and one unknown mass was measured."
   ]
  },
  {
   "cell_type": "code",
   "execution_count": 1,
   "metadata": {},
   "outputs": [],
   "source": [
    "import pandas as pd\n",
    "import numpy as np\n",
    "import matplotlib.pyplot as plt\n",
    "%matplotlib inline\n",
    "\n",
    "import sympy"
   ]
  },
  {
   "cell_type": "markdown",
   "metadata": {},
   "source": [
    "## Hardware Setup\n",
    "A strain gauge was epoxied to a metal rod to measure deflection. The rod was clamped onto a table, and the weight was hung off the end of the rod. \n",
    "\n",
    "A Wheatstone bridge was constructed to precisely measure the resistance across the strain gauge, which changes based on the load on the rod. The Wheatstone bridge outputs a voltage differential which is amplified using a voltage amplifier. This allows the small changes in resistance to be read at a higher sensitivity by the analog discovery."
   ]
  },
  {
   "cell_type": "markdown",
   "metadata": {},
   "source": [
    "## Raw Data\n",
    "\n",
    "Five calibration data points were taken with known weights, and the mass and voltage was recorded here. A sixth weight was taken of an unknown mass which will be calculated."
   ]
  },
  {
   "cell_type": "code",
   "execution_count": 2,
   "metadata": {},
   "outputs": [],
   "source": [
    "# Raw Data\n",
    "# Calibration data in (mass (g), voltage (V))\n",
    "calibration_data = [\n",
    "    (0, 0.001),\n",
    "    (8.7, 0.051),\n",
    "    (20.4, 0.092),\n",
    "    (47.3, 0.16),\n",
    "    (72.1, 0.25),\n",
    "]\n",
    "\n",
    "calibration_data_df = pd.DataFrame(calibration_data)\n",
    "calibration_data_df.columns = ['Mass', 'Voltage']\n",
    "calibration_data_df.set_index('Voltage', inplace=True)\n",
    "\n",
    "unknown = 0.27"
   ]
  },
  {
   "cell_type": "markdown",
   "metadata": {},
   "source": [
    "### Data Analysis\n",
    "\n",
    "The calibration data is fairly linear, so the mass of the weight can be modeled with a simple linear gain from the voltage. The voltage was also calibrated using a potentiometer to have a 0V differential when the mass is 0."
   ]
  },
  {
   "cell_type": "code",
   "execution_count": 3,
   "metadata": {},
   "outputs": [
    {
     "data": {
      "text/plain": [
       "Text(0, 0.5, 'Mass (g)')"
      ]
     },
     "execution_count": 3,
     "metadata": {},
     "output_type": "execute_result"
    },
    {
     "data": {
      "image/png": "[encoded data removed]",
      "text/plain": [
       "<Figure size 432x288 with 1 Axes>"
      ]
     },
     "metadata": {
      "needs_background": "light"
     },
     "output_type": "display_data"
    }
   ],
   "source": [
    "# Generate Linear Regression and plot\n",
    "cal = np.poly1d(np.polyfit(x=calibration_data_df.index, y=calibration_data_df['Mass'], deg=1))\n",
    "calibration_data_df['trendline'] = cal(calibration_data_df.index)\n",
    "ax = plt.plot(calibration_data_df.index, calibration_data_df['Mass'], 'o')\n",
    "ax = plt.plot(calibration_data_df.index, calibration_data_df['trendline'], '-')\n",
    "plt.title('Calibration Curve')\n",
    "plt.xlabel('Voltage (V)')\n",
    "plt.ylabel('Mass (g)')"
   ]
  },
  {
   "cell_type": "markdown",
   "metadata": {},
   "source": [
    "### Calculate the unknown mass\n",
    "\n",
    "Using this linear fit, the mass of the unknown object can be calculated. Unfortunately, because the voltage is out of range, this is an extrapolation, which may be less accurate than a value that is interpolated for. Realistically, the calibration values should span the entire range of the sensor, and the unknown values should be within this range."
   ]
  },
  {
   "cell_type": "code",
   "execution_count": 4,
   "metadata": {},
   "outputs": [
    {
     "data": {
      "text/plain": [
       "77.98610478842225"
      ]
     },
     "execution_count": 4,
     "metadata": {},
     "output_type": "execute_result"
    }
   ],
   "source": [
    "# Calculate value of unknown mass\n",
    "cal(unknown)"
   ]
  },
  {
   "cell_type": "markdown",
   "metadata": {},
   "source": [
    "## Scale Sensitivity\n",
    "Scale sensitivity is defined as $$ dV_{output} \\over {dmass_{input}} $$\n",
    "\n",
    "The scale sensitivity is the derivative of the calibration curve. Because the calibration curve is linear, the sensitivity is simply the slope of the line."
   ]
  },
  {
   "cell_type": "code",
   "execution_count": 5,
   "metadata": {},
   "outputs": [
    {
     "name": "stdout",
     "output_type": "stream",
     "text": [
      "Scale Sensitivity: 303.3 V/g\n"
     ]
    }
   ],
   "source": [
    "# Get the scale sensitivity\n",
    "sensitivity = np.polyfit(x=calibration_data_df.index, y=calibration_data_df['Mass'], deg=1)[0]\n",
    "print(\"Scale Sensitivity: {} V/g\".format(round(sensitivity, 2)))"
   ]
  },
  {
   "cell_type": "markdown",
   "metadata": {},
   "source": [
    "## 20mV change in resistance\n",
    "\n",
    "Given a $\\Delta V$ of 20mV, calculate the change in electrical resistance and the mass applied to get this change.\n",
    "\n",
    "$$ \\Delta V = {R_{sense} \\over {R_{const} + R_{sense}}} $$\n",
    "$$ 20 mV = {\\Delta R \\over {121 \\Omega + \\Delta R}} $$"
   ]
  },
  {
   "cell_type": "code",
   "execution_count": 6,
   "metadata": {},
   "outputs": [
    {
     "data": {
      "text/plain": [
       "[2.46938775510204]"
      ]
     },
     "execution_count": 6,
     "metadata": {},
     "output_type": "execute_result"
    }
   ],
   "source": [
    "# Change in resistance\n",
    "\n",
    "dr = sympy.Symbol('\\Delta R')\n",
    "dv = 0.020 # V\n",
    "r = 121  # ohm\n",
    "sympy.solve(dr / (r + dr) - dv, dr)"
   ]
  },
  {
   "cell_type": "code",
   "execution_count": 7,
   "metadata": {},
   "outputs": [
    {
     "name": "stdout",
     "output_type": "stream",
     "text": [
      "Mass added: 0.0141 g\n"
     ]
    }
   ],
   "source": [
    "# Change in voltage\n",
    "# Generate inverse calibration curve\n",
    "inv_cal = np.poly1d(np.polyfit(x=calibration_data_df['Mass'], y=calibration_data_df.index, deg=1))\n",
    "# Calculate mass for dV of 20 mV\n",
    "print(\"Mass added: {} g\".format(round(inv_cal(dv), 4)))"
   ]
  },
  {
   "cell_type": "code",
   "execution_count": null,
   "metadata": {},
   "outputs": [],
   "source": []
  }
 ],
 "metadata": {
  "kernelspec": {
   "display_name": "Python 3",
   "language": "python",
   "name": "python3"
  },
  "language_info": {
   "codemirror_mode": {
    "name": "ipython",
    "version": 3
   },
   "file_extension": ".py",
   "mimetype": "text/x-python",
   "name": "python",
   "nbconvert_exporter": "python",
   "pygments_lexer": "ipython3",
   "version": "3.6.7"
  }
 },
 "nbformat": 4,
 "nbformat_minor": 2
}
