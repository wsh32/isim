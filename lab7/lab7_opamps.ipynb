{
 "cells": [
  {
   "cell_type": "markdown",
   "metadata": {},
   "source": [
    "# Lab 7: Op Amps\n",
    "\n",
    "The purpose of this lab is to explore applications of operational amplifiers (op-amps).\n"
   ]
  },
  {
   "cell_type": "code",
   "execution_count": 5,
   "metadata": {},
   "outputs": [],
   "source": [
    "import pandas as pd\n",
    "import matplotlib.pyplot as plt\n",
    "\n",
    "%matplotlib inline"
   ]
  },
  {
   "cell_type": "markdown",
   "metadata": {},
   "source": [
    "## Experimental Setup"
   ]
  },
  {
   "cell_type": "markdown",
   "metadata": {},
   "source": [
    "The first experiment done was to observe the current draw of a capacitor.\n",
    "\n",
    "![](schematic/lab7_schematic.png)\n",
    "\n",
    "The experiment above is designed to measure the outputs from the two op-amps. The top op-amp is a voltage buffer and provides a voltage source that has the same voltage potential as $V_{in}$. The bottom circuit is a variable amplifier that amplifies the voltage input based on the current draw of the capacitor. The capacitor's current draw is defined by the capacitor law:\n",
    "\n",
    "$$\n",
    "{dV\\over{dt}} = {1\\over c} \\times {I_{cap}}\n",
    "$$\n"
   ]
  },
  {
   "cell_type": "markdown",
   "metadata": {},
   "source": [
    "## Data\n",
    "\n",
    "$V_{in}$ was altered by the waveforms wave generation, and the voltage response was recorded.\n",
    "\n",
    "| $V_{in}$ (Volts) | ${dV\\over{dt}}$ (Volts) |\n",
    "| ---------------- | ----------------------- |\n",
    "| 0.1 | 2.98 |\n",
    "| 0.5 | 14.62 |\n",
    "| 1 | 29.18 |\n",
    "| 2 | 58.35 |\n",
    "| 2.5 | 73.19 |"
   ]
  },
  {
   "cell_type": "code",
   "execution_count": 30,
   "metadata": {},
   "outputs": [
    {
     "data": {
      "text/plain": [
       "<matplotlib.collections.PathCollection at 0x7f91a2ab6b90>"
      ]
     },
     "execution_count": 30,
     "metadata": {},
     "output_type": "execute_result"
    },
    {
     "data": {
      "image/png": "[encoded data removed]",
      "text/plain": [
       "<Figure size 432x288 with 1 Axes>"
      ]
     },
     "metadata": {
      "needs_background": "light"
     },
     "output_type": "display_data"
    }
   ],
   "source": [
    "c = 0.1e-6\n",
    "r = 1e6\n",
    "dt = 3\n",
    "\n",
    "v_in = [0.1, 0.5, 1, 2, 2.5]\n",
    "dvdt = [2.98, 14.62, 29.18, 58.35, 73.19]\n",
    "\n",
    "ax = plt.gca()\n",
    "ax.scatter(v_in, dvdt)"
   ]
  },
  {
   "cell_type": "code",
   "execution_count": 31,
   "metadata": {},
   "outputs": [
    {
     "data": {
      "text/plain": [
       "<matplotlib.collections.PathCollection at 0x7f91a2889e90>"
      ]
     },
     "execution_count": 31,
     "metadata": {},
     "output_type": "execute_result"
    },
    {
     "data": {
      "image/png": "[encoded data removed]",
      "text/plain": [
       "<Figure size 432x288 with 1 Axes>"
      ]
     },
     "metadata": {
      "needs_background": "light"
     },
     "output_type": "display_data"
    }
   ],
   "source": [
    "# Find theoretical solution\n",
    "v_out = []\n",
    "\n",
    "for v in v_in:\n",
    "    v_o = (v / (c * r)) * dt\n",
    "    v_out.append(v_o)\n",
    "\n",
    "ax = plt.gca()\n",
    "ax.plot(v_in, v_out)\n",
    "ax.scatter(v_in, dvdt)"
   ]
  },
  {
   "cell_type": "markdown",
   "metadata": {},
   "source": [
    "## Conclusion\n",
    "\n",
    "This graph shows that the capacitor setup we used does comply with the capacitor law. Though it should be noted that there is still error, which can often be found with the extra resistance, especially the contact resistance with the breadboard."
   ]
  }
 ],
 "metadata": {
  "kernelspec": {
   "display_name": "Python 3",
   "language": "python",
   "name": "python3"
  },
  "language_info": {
   "codemirror_mode": {
    "name": "ipython",
    "version": 3
   },
   "file_extension": ".py",
   "mimetype": "text/x-python",
   "name": "python",
   "nbconvert_exporter": "python",
   "pygments_lexer": "ipython3",
   "version": "3.7.4"
  }
 },
 "nbformat": 4,
 "nbformat_minor": 2
}
